{
  "nbformat": 4,
  "nbformat_minor": 0,
  "metadata": {
    "colab": {
      "name": "sesion2.ipynb",
      "provenance": [],
      "authorship_tag": "ABX9TyMCmPV1249/XgT1jMjepSUm",
      "include_colab_link": true
    },
    "kernelspec": {
      "name": "python3",
      "display_name": "Python 3"
    },
    "language_info": {
      "name": "python"
    }
  },
  "cells": [
    {
      "cell_type": "markdown",
      "metadata": {
        "id": "view-in-github",
        "colab_type": "text"
      },
      "source": [
        "<a href=\"https://colab.research.google.com/github/YeniAlvarado/Algoritmo/blob/main/s2/sesion2.ipynb\" target=\"_parent\"><img src=\"https://colab.research.google.com/assets/colab-badge.svg\" alt=\"Open In Colab\"/></a>"
      ]
    },
    {
      "cell_type": "markdown",
      "metadata": {
        "id": "W6Ea86ZoQjy2"
      },
      "source": [
        "Contenido"
      ]
    },
    {
      "cell_type": "code",
      "metadata": {
        "id": "pILmwPQjc-28"
      },
      "source": [
        "%%writefile prueba.txt"
      ],
      "execution_count": null,
      "outputs": []
    },
    {
      "cell_type": "code",
      "metadata": {
        "colab": {
          "base_uri": "https://localhost:8080/"
        },
        "id": "5rodlKhSQn2v",
        "outputId": "ab8e038f-d9a8-4406-80b0-24c2f9ae7ff4"
      },
      "source": [
        "%%writefile archivos.cpp\n",
        "#include<iostream>\n",
        "#include<fstream>\n",
        "#include<string>\n",
        "#include<sstream>\n",
        "using namespace std;\n",
        "void conIostream(){\n",
        "     int a;\n",
        "     cout<<\"Ingrese nro\";      //archivo de salida\n",
        "     cin>>a;                   //archivo de entrada\n",
        "    \n",
        "}\n",
        "void conFstream(){\n",
        "    string resultado;\n",
        "    fstream archivo(\"texto.txt\", ios::out);\n",
        "    archivo<<\"Hola mundo\";\n",
        "    archivo>>resultado;\n",
        "    archivo.close();\n",
        "}\n",
        "void conOfstream(){\n",
        "    ofstream archivo(\"contador.txt\");//ofstream archivo; archivo.open(\"text.txt\")\n",
        "    for(size_t i=0; i<100; ++i){\n",
        "        archivo<<i<<endl;\n",
        "    }\n",
        "    archivo.close();\n",
        "}\n",
        "void conIfstream(){\n",
        "    int nro;\n",
        "    int c=0;\n",
        "    ifstream archivo(\"contador,txt\");\n",
        "    while(archivo>>nro)\n",
        "    {cout<<nro; +cc;}\n",
        "    cout<<\"\\n\\tLa cantidad de filas del archivo es:\"<<c<<endl,\n",
        "\n",
        "    archivo.close();\n",
        "}\n",
        "void lectura(){\n",
        "    string nombre;\n",
        "    string apellido;\n",
        "    short edad;\n",
        "    string correo;\n",
        "    string temp,aux;\n",
        "    fstream archivo;\n",
        "    archivo.open(\"prueba.txt\",ios::in);//lectura\n",
        "    while(getline(archivo, temp))\n",
        "    {stringstream archMemoria(temp);\n",
        "    getline(archMemoria,nombre,',');\n",
        "     getline(archMemoria,apellido,',');\n",
        "     getline(archMemoria,aux,',');\n",
        "     edad=stoi(aux);\n",
        "     getline(archMemoria,correo);\n",
        "    cout<<<nombre<<\" \"<<apellido<<\" \"<<edad<<\" \"<<correo<<endl;\n",
        "}\n",
        "}\n",
        "int main(){\n",
        "    lectura();\n",
        "    return 0;\n",
        "}"
      ],
      "execution_count": 16,
      "outputs": [
        {
          "output_type": "stream",
          "text": [
            "Overwriting archivos.cpp\n"
          ],
          "name": "stdout"
        }
      ]
    },
    {
      "cell_type": "code",
      "metadata": {
        "colab": {
          "base_uri": "https://localhost:8080/"
        },
        "id": "5IMxooiMSFlN",
        "outputId": "eb0dc395-17d6-4346-85a0-5a0406ced50d"
      },
      "source": [
        "!g++ archivos.cpp&& ./a.out"
      ],
      "execution_count": 17,
      "outputs": [
        {
          "output_type": "stream",
          "text": [
            "\u001b[01m\u001b[Karchivos.cpp:\u001b[m\u001b[K In function ‘\u001b[01m\u001b[Kvoid conIfstream()\u001b[m\u001b[K’:\n",
            "\u001b[01m\u001b[Karchivos.cpp:29:18:\u001b[m\u001b[K \u001b[01;31m\u001b[Kerror: \u001b[m\u001b[K‘\u001b[01m\u001b[Kcc\u001b[m\u001b[K’ was not declared in this scope\n",
            "     {cout<<nro; +\u001b[01;31m\u001b[Kcc\u001b[m\u001b[K;}\n",
            "                  \u001b[01;31m\u001b[K^~\u001b[m\u001b[K\n",
            "\u001b[01m\u001b[Karchivos.cpp:29:18:\u001b[m\u001b[K \u001b[01;36m\u001b[Knote: \u001b[m\u001b[Ksuggested alternative: ‘\u001b[01m\u001b[Kc\u001b[m\u001b[K’\n",
            "     {cout<<nro; +\u001b[01;36m\u001b[Kcc\u001b[m\u001b[K;}\n",
            "                  \u001b[01;36m\u001b[K^~\u001b[m\u001b[K\n",
            "                  \u001b[32m\u001b[Kc\u001b[m\u001b[K\n",
            "\u001b[01m\u001b[Karchivos.cpp:\u001b[m\u001b[K In function ‘\u001b[01m\u001b[Kvoid lectura()\u001b[m\u001b[K’:\n",
            "\u001b[01m\u001b[Karchivos.cpp:43:11:\u001b[m\u001b[K \u001b[01;31m\u001b[Kerror: \u001b[m\u001b[Kexpected primary-expression before ‘\u001b[01m\u001b[K<\u001b[m\u001b[K’ token\n",
            "     cout<<\u001b[01;31m\u001b[K<\u001b[m\u001b[Ktemp<<endl;\n",
            "           \u001b[01;31m\u001b[K^\u001b[m\u001b[K\n",
            "\u001b[01m\u001b[Karchivos.cpp:43:16:\u001b[m\u001b[K \u001b[01;31m\u001b[Kerror: \u001b[m\u001b[Kno match for ‘\u001b[01m\u001b[Koperator<<\u001b[m\u001b[K’ (operand types are ‘\u001b[01m\u001b[Kstd::__cxx11::string {aka std::__cxx11::basic_string<char>}\u001b[m\u001b[K’ and ‘\u001b[01m\u001b[K<unresolved overloaded function type>\u001b[m\u001b[K’)\n",
            "     cout<<<\u001b[01;31m\u001b[Ktemp<<endl\u001b[m\u001b[K;\n",
            "            \u001b[01;31m\u001b[K~~~~^~~~~~\u001b[m\u001b[K\n",
            "In file included from \u001b[01m\u001b[K/usr/include/c++/7/string:52:0\u001b[m\u001b[K,\n",
            "                 from \u001b[01m\u001b[K/usr/include/c++/7/bits/locale_classes.h:40\u001b[m\u001b[K,\n",
            "                 from \u001b[01m\u001b[K/usr/include/c++/7/bits/ios_base.h:41\u001b[m\u001b[K,\n",
            "                 from \u001b[01m\u001b[K/usr/include/c++/7/ios:42\u001b[m\u001b[K,\n",
            "                 from \u001b[01m\u001b[K/usr/include/c++/7/ostream:38\u001b[m\u001b[K,\n",
            "                 from \u001b[01m\u001b[K/usr/include/c++/7/iostream:39\u001b[m\u001b[K,\n",
            "                 from \u001b[01m\u001b[Karchivos.cpp:1\u001b[m\u001b[K:\n",
            "\u001b[01m\u001b[K/usr/include/c++/7/bits/basic_string.h:6284:5:\u001b[m\u001b[K \u001b[01;36m\u001b[Knote: \u001b[m\u001b[Kcandidate: template<class _CharT, class _Traits, class _Alloc> std::basic_ostream<_CharT, _Traits>& std::operator<<(std::basic_ostream<_CharT, _Traits>&, const std::__cxx11::basic_string<_CharT, _Traits, _Alloc>&)\n",
            "     \u001b[01;36m\u001b[Koperator\u001b[m\u001b[K<<(basic_ostream<_CharT, _Traits>& __os,\n",
            "     \u001b[01;36m\u001b[K^~~~~~~~\u001b[m\u001b[K\n",
            "\u001b[01m\u001b[K/usr/include/c++/7/bits/basic_string.h:6284:5:\u001b[m\u001b[K \u001b[01;36m\u001b[Knote: \u001b[m\u001b[K  template argument deduction/substitution failed:\n",
            "\u001b[01m\u001b[Karchivos.cpp:43:18:\u001b[m\u001b[K \u001b[01;36m\u001b[Knote: \u001b[m\u001b[K  ‘\u001b[01m\u001b[Kstd::__cxx11::string {aka std::__cxx11::basic_string<char>}\u001b[m\u001b[K’ is not derived from ‘\u001b[01m\u001b[Kstd::basic_ostream<_CharT, _Traits>\u001b[m\u001b[K’\n",
            "     cout<<<temp<<\u001b[01;36m\u001b[Kendl\u001b[m\u001b[K;\n",
            "                  \u001b[01;36m\u001b[K^~~~\u001b[m\u001b[K\n",
            "In file included from \u001b[01m\u001b[K/usr/include/c++/7/bits/ios_base.h:46:0\u001b[m\u001b[K,\n",
            "                 from \u001b[01m\u001b[K/usr/include/c++/7/ios:42\u001b[m\u001b[K,\n",
            "                 from \u001b[01m\u001b[K/usr/include/c++/7/ostream:38\u001b[m\u001b[K,\n",
            "                 from \u001b[01m\u001b[K/usr/include/c++/7/iostream:39\u001b[m\u001b[K,\n",
            "                 from \u001b[01m\u001b[Karchivos.cpp:1\u001b[m\u001b[K:\n",
            "\u001b[01m\u001b[K/usr/include/c++/7/system_error:217:5:\u001b[m\u001b[K \u001b[01;36m\u001b[Knote: \u001b[m\u001b[Kcandidate: template<class _CharT, class _Traits> std::basic_ostream<_CharT, _Traits>& std::operator<<(std::basic_ostream<_CharT, _Traits>&, const std::error_code&)\n",
            "     \u001b[01;36m\u001b[Koperator\u001b[m\u001b[K<<(basic_ostream<_CharT, _Traits>& __os, const error_code& __e)\n",
            "     \u001b[01;36m\u001b[K^~~~~~~~\u001b[m\u001b[K\n",
            "\u001b[01m\u001b[K/usr/include/c++/7/system_error:217:5:\u001b[m\u001b[K \u001b[01;36m\u001b[Knote: \u001b[m\u001b[K  template argument deduction/substitution failed:\n",
            "\u001b[01m\u001b[Karchivos.cpp:43:18:\u001b[m\u001b[K \u001b[01;36m\u001b[Knote: \u001b[m\u001b[K  ‘\u001b[01m\u001b[Kstd::__cxx11::string {aka std::__cxx11::basic_string<char>}\u001b[m\u001b[K’ is not derived from ‘\u001b[01m\u001b[Kstd::basic_ostream<_CharT, _Traits>\u001b[m\u001b[K’\n",
            "     cout<<<temp<<\u001b[01;36m\u001b[Kendl\u001b[m\u001b[K;\n",
            "                  \u001b[01;36m\u001b[K^~~~\u001b[m\u001b[K\n",
            "In file included from \u001b[01m\u001b[K/usr/include/c++/7/iostream:39:0\u001b[m\u001b[K,\n",
            "                 from \u001b[01m\u001b[Karchivos.cpp:1\u001b[m\u001b[K:\n",
            "\u001b[01m\u001b[K/usr/include/c++/7/ostream:497:5:\u001b[m\u001b[K \u001b[01;36m\u001b[Knote: \u001b[m\u001b[Kcandidate: template<class _CharT, class _Traits> std::basic_ostream<_CharT, _Traits>& std::operator<<(std::basic_ostream<_CharT, _Traits>&, _CharT)\n",
            "     \u001b[01;36m\u001b[Koperator\u001b[m\u001b[K<<(basic_ostream<_CharT, _Traits>& __out, _CharT __c)\n",
            "     \u001b[01;36m\u001b[K^~~~~~~~\u001b[m\u001b[K\n",
            "\u001b[01m\u001b[K/usr/include/c++/7/ostream:497:5:\u001b[m\u001b[K \u001b[01;36m\u001b[Knote: \u001b[m\u001b[K  template argument deduction/substitution failed:\n",
            "\u001b[01m\u001b[Karchivos.cpp:43:18:\u001b[m\u001b[K \u001b[01;36m\u001b[Knote: \u001b[m\u001b[K  ‘\u001b[01m\u001b[Kstd::__cxx11::string {aka std::__cxx11::basic_string<char>}\u001b[m\u001b[K’ is not derived from ‘\u001b[01m\u001b[Kstd::basic_ostream<_CharT, _Traits>\u001b[m\u001b[K’\n",
            "     cout<<<temp<<\u001b[01;36m\u001b[Kendl\u001b[m\u001b[K;\n",
            "                  \u001b[01;36m\u001b[K^~~~\u001b[m\u001b[K\n",
            "In file included from \u001b[01m\u001b[K/usr/include/c++/7/iostream:39:0\u001b[m\u001b[K,\n",
            "                 from \u001b[01m\u001b[Karchivos.cpp:1\u001b[m\u001b[K:\n",
            "\u001b[01m\u001b[K/usr/include/c++/7/ostream:502:5:\u001b[m\u001b[K \u001b[01;36m\u001b[Knote: \u001b[m\u001b[Kcandidate: template<class _CharT, class _Traits> std::basic_ostream<_CharT, _Traits>& std::operator<<(std::basic_ostream<_CharT, _Traits>&, char)\n",
            "     \u001b[01;36m\u001b[Koperator\u001b[m\u001b[K<<(basic_ostream<_CharT, _Traits>& __out, char __c)\n",
            "     \u001b[01;36m\u001b[K^~~~~~~~\u001b[m\u001b[K\n",
            "\u001b[01m\u001b[K/usr/include/c++/7/ostream:502:5:\u001b[m\u001b[K \u001b[01;36m\u001b[Knote: \u001b[m\u001b[K  template argument deduction/substitution failed:\n",
            "\u001b[01m\u001b[Karchivos.cpp:43:18:\u001b[m\u001b[K \u001b[01;36m\u001b[Knote: \u001b[m\u001b[K  ‘\u001b[01m\u001b[Kstd::__cxx11::string {aka std::__cxx11::basic_string<char>}\u001b[m\u001b[K’ is not derived from ‘\u001b[01m\u001b[Kstd::basic_ostream<_CharT, _Traits>\u001b[m\u001b[K’\n",
            "     cout<<<temp<<\u001b[01;36m\u001b[Kendl\u001b[m\u001b[K;\n",
            "                  \u001b[01;36m\u001b[K^~~~\u001b[m\u001b[K\n",
            "In file included from \u001b[01m\u001b[K/usr/include/c++/7/iostream:39:0\u001b[m\u001b[K,\n",
            "                 from \u001b[01m\u001b[Karchivos.cpp:1\u001b[m\u001b[K:\n",
            "\u001b[01m\u001b[K/usr/include/c++/7/ostream:508:5:\u001b[m\u001b[K \u001b[01;36m\u001b[Knote: \u001b[m\u001b[Kcandidate: template<class _Traits> std::basic_ostream<char, _Traits>& std::operator<<(std::basic_ostream<char, _Traits>&, char)\n",
            "     \u001b[01;36m\u001b[Koperator\u001b[m\u001b[K<<(basic_ostream<char, _Traits>& __out, char __c)\n",
            "     \u001b[01;36m\u001b[K^~~~~~~~\u001b[m\u001b[K\n",
            "\u001b[01m\u001b[K/usr/include/c++/7/ostream:508:5:\u001b[m\u001b[K \u001b[01;36m\u001b[Knote: \u001b[m\u001b[K  template argument deduction/substitution failed:\n",
            "\u001b[01m\u001b[Karchivos.cpp:43:18:\u001b[m\u001b[K \u001b[01;36m\u001b[Knote: \u001b[m\u001b[K  ‘\u001b[01m\u001b[Kstd::__cxx11::string {aka std::__cxx11::basic_string<char>}\u001b[m\u001b[K’ is not derived from ‘\u001b[01m\u001b[Kstd::basic_ostream<char, _Traits>\u001b[m\u001b[K’\n",
            "     cout<<<temp<<\u001b[01;36m\u001b[Kendl\u001b[m\u001b[K;\n",
            "                  \u001b[01;36m\u001b[K^~~~\u001b[m\u001b[K\n",
            "In file included from \u001b[01m\u001b[K/usr/include/c++/7/iostream:39:0\u001b[m\u001b[K,\n",
            "                 from \u001b[01m\u001b[Karchivos.cpp:1\u001b[m\u001b[K:\n",
            "\u001b[01m\u001b[K/usr/include/c++/7/ostream:514:5:\u001b[m\u001b[K \u001b[01;36m\u001b[Knote: \u001b[m\u001b[Kcandidate: template<class _Traits> std::basic_ostream<char, _Traits>& std::operator<<(std::basic_ostream<char, _Traits>&, signed char)\n",
            "     \u001b[01;36m\u001b[Koperator\u001b[m\u001b[K<<(basic_ostream<char, _Traits>& __out, signed char __c)\n",
            "     \u001b[01;36m\u001b[K^~~~~~~~\u001b[m\u001b[K\n",
            "\u001b[01m\u001b[K/usr/include/c++/7/ostream:514:5:\u001b[m\u001b[K \u001b[01;36m\u001b[Knote: \u001b[m\u001b[K  template argument deduction/substitution failed:\n",
            "\u001b[01m\u001b[Karchivos.cpp:43:18:\u001b[m\u001b[K \u001b[01;36m\u001b[Knote: \u001b[m\u001b[K  ‘\u001b[01m\u001b[Kstd::__cxx11::string {aka std::__cxx11::basic_string<char>}\u001b[m\u001b[K’ is not derived from ‘\u001b[01m\u001b[Kstd::basic_ostream<char, _Traits>\u001b[m\u001b[K’\n",
            "     cout<<<temp<<\u001b[01;36m\u001b[Kendl\u001b[m\u001b[K;\n",
            "                  \u001b[01;36m\u001b[K^~~~\u001b[m\u001b[K\n",
            "In file included from \u001b[01m\u001b[K/usr/include/c++/7/iostream:39:0\u001b[m\u001b[K,\n",
            "                 from \u001b[01m\u001b[Karchivos.cpp:1\u001b[m\u001b[K:\n",
            "\u001b[01m\u001b[K/usr/include/c++/7/ostream:519:5:\u001b[m\u001b[K \u001b[01;36m\u001b[Knote: \u001b[m\u001b[Kcandidate: template<class _Traits> std::basic_ostream<char, _Traits>& std::operator<<(std::basic_ostream<char, _Traits>&, unsigned char)\n",
            "     \u001b[01;36m\u001b[Koperator\u001b[m\u001b[K<<(basic_ostream<char, _Traits>& __out, unsigned char __c)\n",
            "     \u001b[01;36m\u001b[K^~~~~~~~\u001b[m\u001b[K\n",
            "\u001b[01m\u001b[K/usr/include/c++/7/ostream:519:5:\u001b[m\u001b[K \u001b[01;36m\u001b[Knote: \u001b[m\u001b[K  template argument deduction/substitution failed:\n",
            "\u001b[01m\u001b[Karchivos.cpp:43:18:\u001b[m\u001b[K \u001b[01;36m\u001b[Knote: \u001b[m\u001b[K  ‘\u001b[01m\u001b[Kstd::__cxx11::string {aka std::__cxx11::basic_string<char>}\u001b[m\u001b[K’ is not derived from ‘\u001b[01m\u001b[Kstd::basic_ostream<char, _Traits>\u001b[m\u001b[K’\n",
            "     cout<<<temp<<\u001b[01;36m\u001b[Kendl\u001b[m\u001b[K;\n",
            "                  \u001b[01;36m\u001b[K^~~~\u001b[m\u001b[K\n",
            "In file included from \u001b[01m\u001b[K/usr/include/c++/7/iostream:39:0\u001b[m\u001b[K,\n",
            "                 from \u001b[01m\u001b[Karchivos.cpp:1\u001b[m\u001b[K:\n",
            "\u001b[01m\u001b[K/usr/include/c++/7/ostream:539:5:\u001b[m\u001b[K \u001b[01;36m\u001b[Knote: \u001b[m\u001b[Kcandidate: template<class _CharT, class _Traits> std::basic_ostream<_CharT, _Traits>& std::operator<<(std::basic_ostream<_CharT, _Traits>&, const _CharT*)\n",
            "     \u001b[01;36m\u001b[Koperator\u001b[m\u001b[K<<(basic_ostream<_CharT, _Traits>& __out, const _CharT* __s)\n",
            "     \u001b[01;36m\u001b[K^~~~~~~~\u001b[m\u001b[K\n",
            "\u001b[01m\u001b[K/usr/include/c++/7/ostream:539:5:\u001b[m\u001b[K \u001b[01;36m\u001b[Knote: \u001b[m\u001b[K  template argument deduction/substitution failed:\n",
            "\u001b[01m\u001b[Karchivos.cpp:43:18:\u001b[m\u001b[K \u001b[01;36m\u001b[Knote: \u001b[m\u001b[K  ‘\u001b[01m\u001b[Kstd::__cxx11::string {aka std::__cxx11::basic_string<char>}\u001b[m\u001b[K’ is not derived from ‘\u001b[01m\u001b[Kstd::basic_ostream<_CharT, _Traits>\u001b[m\u001b[K’\n",
            "     cout<<<temp<<\u001b[01;36m\u001b[Kendl\u001b[m\u001b[K;\n",
            "                  \u001b[01;36m\u001b[K^~~~\u001b[m\u001b[K\n",
            "In file included from \u001b[01m\u001b[K/usr/include/c++/7/ostream:693:0\u001b[m\u001b[K,\n",
            "                 from \u001b[01m\u001b[K/usr/include/c++/7/iostream:39\u001b[m\u001b[K,\n",
            "                 from \u001b[01m\u001b[Karchivos.cpp:1\u001b[m\u001b[K:\n",
            "\u001b[01m\u001b[K/usr/include/c++/7/bits/ostream.tcc:321:5:\u001b[m\u001b[K \u001b[01;36m\u001b[Knote: \u001b[m\u001b[Kcandidate: template<class _CharT, class _Traits> std::basic_ostream<_CharT, _Traits>& std::operator<<(std::basic_ostream<_CharT, _Traits>&, const char*)\n",
            "     \u001b[01;36m\u001b[Koperator\u001b[m\u001b[K<<(basic_ostream<_CharT, _Traits>& __out, const char* __s)\n",
            "     \u001b[01;36m\u001b[K^~~~~~~~\u001b[m\u001b[K\n",
            "\u001b[01m\u001b[K/usr/include/c++/7/bits/ostream.tcc:321:5:\u001b[m\u001b[K \u001b[01;36m\u001b[Knote: \u001b[m\u001b[K  template argument deduction/substitution failed:\n",
            "\u001b[01m\u001b[Karchivos.cpp:43:18:\u001b[m\u001b[K \u001b[01;36m\u001b[Knote: \u001b[m\u001b[K  ‘\u001b[01m\u001b[Kstd::__cxx11::string {aka std::__cxx11::basic_string<char>}\u001b[m\u001b[K’ is not derived from ‘\u001b[01m\u001b[Kstd::basic_ostream<_CharT, _Traits>\u001b[m\u001b[K’\n",
            "     cout<<<temp<<\u001b[01;36m\u001b[Kendl\u001b[m\u001b[K;\n",
            "                  \u001b[01;36m\u001b[K^~~~\u001b[m\u001b[K\n",
            "In file included from \u001b[01m\u001b[K/usr/include/c++/7/iostream:39:0\u001b[m\u001b[K,\n",
            "                 from \u001b[01m\u001b[Karchivos.cpp:1\u001b[m\u001b[K:\n",
            "\u001b[01m\u001b[K/usr/include/c++/7/ostream:556:5:\u001b[m\u001b[K \u001b[01;36m\u001b[Knote: \u001b[m\u001b[Kcandidate: template<class _Traits> std::basic_ostream<char, _Traits>& std::operator<<(std::basic_ostream<char, _Traits>&, const char*)\n",
            "     \u001b[01;36m\u001b[Koperator\u001b[m\u001b[K<<(basic_ostream<char, _Traits>& __out, const char* __s)\n",
            "     \u001b[01;36m\u001b[K^~~~~~~~\u001b[m\u001b[K\n",
            "\u001b[01m\u001b[K/usr/include/c++/7/ostream:556:5:\u001b[m\u001b[K \u001b[01;36m\u001b[Knote: \u001b[m\u001b[K  template argument deduction/substitution failed:\n",
            "\u001b[01m\u001b[Karchivos.cpp:43:18:\u001b[m\u001b[K \u001b[01;36m\u001b[Knote: \u001b[m\u001b[K  ‘\u001b[01m\u001b[Kstd::__cxx11::string {aka std::__cxx11::basic_string<char>}\u001b[m\u001b[K’ is not derived from ‘\u001b[01m\u001b[Kstd::basic_ostream<char, _Traits>\u001b[m\u001b[K’\n",
            "     cout<<<temp<<\u001b[01;36m\u001b[Kendl\u001b[m\u001b[K;\n",
            "                  \u001b[01;36m\u001b[K^~~~\u001b[m\u001b[K\n",
            "In file included from \u001b[01m\u001b[K/usr/include/c++/7/iostream:39:0\u001b[m\u001b[K,\n",
            "                 from \u001b[01m\u001b[Karchivos.cpp:1\u001b[m\u001b[K:\n",
            "\u001b[01m\u001b[K/usr/include/c++/7/ostream:569:5:\u001b[m\u001b[K \u001b[01;36m\u001b[Knote: \u001b[m\u001b[Kcandidate: template<class _Traits> std::basic_ostream<char, _Traits>& std::operator<<(std::basic_ostream<char, _Traits>&, const signed char*)\n",
            "     \u001b[01;36m\u001b[Koperator\u001b[m\u001b[K<<(basic_ostream<char, _Traits>& __out, const signed char* __s)\n",
            "     \u001b[01;36m\u001b[K^~~~~~~~\u001b[m\u001b[K\n",
            "\u001b[01m\u001b[K/usr/include/c++/7/ostream:569:5:\u001b[m\u001b[K \u001b[01;36m\u001b[Knote: \u001b[m\u001b[K  template argument deduction/substitution failed:\n",
            "\u001b[01m\u001b[Karchivos.cpp:43:18:\u001b[m\u001b[K \u001b[01;36m\u001b[Knote: \u001b[m\u001b[K  ‘\u001b[01m\u001b[Kstd::__cxx11::string {aka std::__cxx11::basic_string<char>}\u001b[m\u001b[K’ is not derived from ‘\u001b[01m\u001b[Kstd::basic_ostream<char, _Traits>\u001b[m\u001b[K’\n",
            "     cout<<<temp<<\u001b[01;36m\u001b[Kendl\u001b[m\u001b[K;\n",
            "                  \u001b[01;36m\u001b[K^~~~\u001b[m\u001b[K\n",
            "In file included from \u001b[01m\u001b[K/usr/include/c++/7/iostream:39:0\u001b[m\u001b[K,\n",
            "                 from \u001b[01m\u001b[Karchivos.cpp:1\u001b[m\u001b[K:\n",
            "\u001b[01m\u001b[K/usr/include/c++/7/ostream:574:5:\u001b[m\u001b[K \u001b[01;36m\u001b[Knote: \u001b[m\u001b[Kcandidate: template<class _Traits> std::basic_ostream<char, _Traits>& std::operator<<(std::basic_ostream<char, _Traits>&, const unsigned char*)\n",
            "     \u001b[01;36m\u001b[Koperator\u001b[m\u001b[K<<(basic_ostream<char, _Traits>& __out, const unsigned char* __s)\n",
            "     \u001b[01;36m\u001b[K^~~~~~~~\u001b[m\u001b[K\n",
            "\u001b[01m\u001b[K/usr/include/c++/7/ostream:574:5:\u001b[m\u001b[K \u001b[01;36m\u001b[Knote: \u001b[m\u001b[K  template argument deduction/substitution failed:\n",
            "\u001b[01m\u001b[Karchivos.cpp:43:18:\u001b[m\u001b[K \u001b[01;36m\u001b[Knote: \u001b[m\u001b[K  ‘\u001b[01m\u001b[Kstd::__cxx11::string {aka std::__cxx11::basic_string<char>}\u001b[m\u001b[K’ is not derived from ‘\u001b[01m\u001b[Kstd::basic_ostream<char, _Traits>\u001b[m\u001b[K’\n",
            "     cout<<<temp<<\u001b[01;36m\u001b[Kendl\u001b[m\u001b[K;\n",
            "                  \u001b[01;36m\u001b[K^~~~\u001b[m\u001b[K\n",
            "In file included from \u001b[01m\u001b[K/usr/include/c++/7/iostream:39:0\u001b[m\u001b[K,\n",
            "                 from \u001b[01m\u001b[Karchivos.cpp:1\u001b[m\u001b[K:\n",
            "\u001b[01m\u001b[K/usr/include/c++/7/ostream:682:5:\u001b[m\u001b[K \u001b[01;36m\u001b[Knote: \u001b[m\u001b[Kcandidate: template<class _Ostream, class _Tp> typename std::enable_if<std::__and_<std::__not_<std::is_lvalue_reference<_Tp> >, std::__is_convertible_to_basic_ostream<_Ostream>, std::__is_insertable<typename std::__is_convertible_to_basic_ostream<_Tp>::__ostream_type, const _Tp&, void> >::value, typename std::__is_convertible_to_basic_ostream<_Tp>::__ostream_type>::type std::operator<<(_Ostream&&, const _Tp&)\n",
            "     \u001b[01;36m\u001b[Koperator\u001b[m\u001b[K<<(_Ostream&& __os, const _Tp& __x)\n",
            "     \u001b[01;36m\u001b[K^~~~~~~~\u001b[m\u001b[K\n",
            "\u001b[01m\u001b[K/usr/include/c++/7/ostream:682:5:\u001b[m\u001b[K \u001b[01;36m\u001b[Knote: \u001b[m\u001b[K  template argument deduction/substitution failed:\n",
            "\u001b[01m\u001b[Karchivos.cpp:43:18:\u001b[m\u001b[K \u001b[01;36m\u001b[Knote: \u001b[m\u001b[K  couldn't deduce template parameter ‘\u001b[01m\u001b[K_Tp\u001b[m\u001b[K’\n",
            "     cout<<<temp<<\u001b[01;36m\u001b[Kendl\u001b[m\u001b[K;\n",
            "                  \u001b[01;36m\u001b[K^~~~\u001b[m\u001b[K\n"
          ],
          "name": "stdout"
        }
      ]
    },
    {
      "cell_type": "markdown",
      "metadata": {
        "id": "wqxPQ_3rdGuc"
      },
      "source": [
        "Lambdas"
      ]
    },
    {
      "cell_type": "code",
      "metadata": {
        "colab": {
          "base_uri": "https://localhost:8080/"
        },
        "id": "MNQM4XNlShb1",
        "outputId": "e98765af-1d12-4034-fd30-dac93751446b"
      },
      "source": [
        "%%writefile lambdas.cpp\n",
        "\n",
        "#include <iostream>\n",
        "\n",
        "#include <functional>\n",
        "\n",
        "#include <string>\n",
        "\n",
        "using std::cout;\n",
        "\n",
        "using std::function;\n",
        "\n",
        "using std::endl;\n",
        "\n",
        "using std::string;\n",
        "\n",
        "namespace Ejemplo1{\n",
        "\n",
        "    void operacion(function<short(short,short)> funcion){\n",
        "\n",
        "    int a=10;\n",
        "\n",
        "    int b=5;\n",
        "\n",
        "    cout<<funcion(a,b)<<endl;\n",
        "\n",
        "}\n",
        "\n",
        "void operacion(int a, int b, function<short(short,short)> funcion){    \n",
        "\n",
        "    cout<<funcion(a,b)<<endl;\n",
        "\n",
        "}\n",
        "\n",
        "void ejemplo1(){\n",
        "\n",
        "    int a=100;\n",
        "\n",
        "    int b=50;\n",
        "\n",
        "    auto suma=[](short a, short b)->short{return a+b;};\n",
        "\n",
        "    auto resta=[](short a, short b){return a-b;};\n",
        "\n",
        "    auto multiplicacion=[](short a, short b){return a*b;};\n",
        "\n",
        "    auto division=[](short a, short b){return a/b;};\n",
        "\n",
        "    operacion(suma);\n",
        "\n",
        "    operacion(resta);\n",
        "\n",
        "    operacion(multiplicacion);\n",
        "\n",
        "    operacion(division);\n",
        "\n",
        "    operacion(a,b,suma);\n",
        "\n",
        "    operacion(a,b,resta);\n",
        "\n",
        "    operacion(a,b,multiplicacion);\n",
        "\n",
        "    operacion(a,b,division);\n",
        "\n",
        "\n",
        "\n",
        "}\n",
        "\n",
        "\n",
        "\n",
        "}\n",
        "\n",
        "namespace Ejemplo2{\n",
        "\n",
        "struct Persona{\n",
        "\n",
        "    string nombre;\n",
        "\n",
        "    unsigned short edad;\n",
        "\n",
        "    string correo;\n",
        "\n",
        "};\n",
        "\n",
        "void mostrar(Persona p,function<void(Persona)> f){   f(p); }    \n",
        "\n",
        "void ejemplo2(){\n",
        "\n",
        "    Persona p;\n",
        "\n",
        "    p.nombre=\"Walter\";\n",
        "\n",
        "    p.edad=38;\n",
        "\n",
        "    p.correo=\"waltercueva@gmail.com\";\n",
        "\n",
        "    auto horizontal=[](Persona p){\n",
        "\n",
        "        cout<<p.nombre<<\" \"<<p.edad<<\" \"<<p.correo<<endl;};\n",
        "\n",
        "    auto nombre=[](Persona p){\n",
        "\n",
        "        cout<<p.nombre<<endl;};\n",
        "\n",
        "    auto vertical=[](Persona p){\n",
        "\n",
        "        cout<<p.nombre<<endl<<p.edad<<endl<<p.correo<<endl;};\n",
        "\n",
        "    mostrar(p,vertical);\n",
        "\n",
        "  }\n",
        "\n",
        "}\n",
        "\n",
        "int main(){\n",
        "\n",
        "  Ejemplo2::ejemplo2();  \n",
        "\n",
        "}"
      ],
      "execution_count": 30,
      "outputs": [
        {
          "output_type": "stream",
          "text": [
            "Overwriting lambdas.cpp\n"
          ],
          "name": "stdout"
        }
      ]
    },
    {
      "cell_type": "code",
      "metadata": {
        "colab": {
          "base_uri": "https://localhost:8080/"
        },
        "id": "qkR2J56merEn",
        "outputId": "0eb559f0-22f4-416e-dc26-7dfa41650453"
      },
      "source": [
        "!g++ lambdas.cpp&& ./a.out"
      ],
      "execution_count": 31,
      "outputs": [
        {
          "output_type": "stream",
          "text": [
            "Walter\n",
            "38\n",
            "waltercueva@gmail.com\n"
          ],
          "name": "stdout"
        }
      ]
    },
    {
      "cell_type": "code",
      "metadata": {
        "id": "hV303JeyexRI"
      },
      "source": [
        ""
      ],
      "execution_count": null,
      "outputs": []
    }
  ]
}