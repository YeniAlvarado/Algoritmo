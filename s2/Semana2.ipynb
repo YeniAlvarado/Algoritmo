{
  "nbformat": 4,
  "nbformat_minor": 0,
  "metadata": {
    "colab": {
      "name": "Semana2.ipynb",
      "provenance": [],
      "collapsed_sections": [],
      "authorship_tag": "ABX9TyPqx4fr/A1cuyOHnW2e+XEL",
      "include_colab_link": true
    },
    "kernelspec": {
      "name": "python3",
      "display_name": "Python 3"
    },
    "language_info": {
      "name": "python"
    }
  },
  "cells": [
    {
      "cell_type": "markdown",
      "metadata": {
        "id": "view-in-github",
        "colab_type": "text"
      },
      "source": [
        "<a href=\"https://colab.research.google.com/github/YeniAlvarado/Algoritmo/blob/main/s2/Semana2.ipynb\" target=\"_parent\"><img src=\"https://colab.research.google.com/assets/colab-badge.svg\" alt=\"Open In Colab\"/></a>"
      ]
    },
    {
      "cell_type": "code",
      "metadata": {
        "colab": {
          "base_uri": "https://localhost:8080/"
        },
        "id": "8UeGNC1V8ehk",
        "outputId": "f70bb6fc-ccb2-451f-c033-4eecb3b90c88"
      },
      "source": [
        "%%writefile programa1.cpp\n",
        "#include<iostream>\n",
        "using namespace std;\n",
        "int main (){\n",
        "  cout<<\"Introduccion a Colab\";\n",
        "  return 0;\n",
        "}"
      ],
      "execution_count": null,
      "outputs": [
        {
          "output_type": "stream",
          "text": [
            "Overwriting programa1.cpp\n"
          ],
          "name": "stdout"
        }
      ]
    },
    {
      "cell_type": "markdown",
      "metadata": {
        "id": "CZZB-We1-0hn"
      },
      "source": [
        "## Temario\n",
        "1.Colab-Markdown\n",
        "2.Compilación de c++ desde terminal\n",
        "3.Templates\n",
        "4.Recursividad\n"
      ]
    },
    {
      "cell_type": "code",
      "metadata": {
        "id": "Do9VJoJRB8i0"
      },
      "source": [
        "# compilando el código(crear el programa objeto-a.out)\n",
        "!g++ programa1.cpp"
      ],
      "execution_count": null,
      "outputs": []
    },
    {
      "cell_type": "code",
      "metadata": {
        "colab": {
          "base_uri": "https://localhost:8080/"
        },
        "id": "JkPk-cz2IHyj",
        "outputId": "3839a190-2d39-4daa-cbeb-8f4ac49d160e"
      },
      "source": [
        "#ejecutar el binario\n",
        "!./a.out"
      ],
      "execution_count": null,
      "outputs": [
        {
          "output_type": "stream",
          "text": [
            "Introduccion a Colab"
          ],
          "name": "stdout"
        }
      ]
    },
    {
      "cell_type": "code",
      "metadata": {
        "colab": {
          "base_uri": "https://localhost:8080/"
        },
        "id": "6Mm1OVhNILpI",
        "outputId": "6402a71d-ee7b-4455-aaab-047ebb4b7e21"
      },
      "source": [
        "#en una sola linea\n",
        "!g++ programa1.cpp && ./a.out"
      ],
      "execution_count": null,
      "outputs": [
        {
          "output_type": "stream",
          "text": [
            "Introduccion a Colab"
          ],
          "name": "stdout"
        }
      ]
    },
    {
      "cell_type": "code",
      "metadata": {
        "colab": {
          "base_uri": "https://localhost:8080/"
        },
        "id": "vKCwiaO1I3NU",
        "outputId": "c2ff4b28-0074-4a38-8891-c42a53a98f77"
      },
      "source": [
        "#renombrando la salida\n",
        "!g++ programa1.cpp -o upc.exe && ./upc.exe"
      ],
      "execution_count": null,
      "outputs": [
        {
          "output_type": "stream",
          "text": [
            "Introduccion a Colab"
          ],
          "name": "stdout"
        }
      ]
    },
    {
      "cell_type": "code",
      "metadata": {
        "colab": {
          "base_uri": "https://localhost:8080/"
        },
        "id": "lELrMRRvJEJ7",
        "outputId": "b17a3251-4482-47ad-b960-749b73937680"
      },
      "source": [
        "#renombrando la salida y seleccionando el compilador\n",
        "#!g++ -std=c++11 programa1.cpp -o upc.exe && ./upc.exe\n",
        "!g++ -std=c++1z programa1.cpp -o upc.exe && ./upc.exe"
      ],
      "execution_count": null,
      "outputs": [
        {
          "output_type": "stream",
          "text": [
            "Introduccion a Colab"
          ],
          "name": "stdout"
        }
      ]
    },
    {
      "cell_type": "markdown",
      "metadata": {
        "id": "_QxSWgcZJN6X"
      },
      "source": [
        "## Templates\n",
        "\n"
      ]
    },
    {
      "cell_type": "markdown",
      "metadata": {
        "id": "i7tVTZlZtCE2"
      },
      "source": [
        "#Forma anterior(Repetitivo en estructura)"
      ]
    },
    {
      "cell_type": "code",
      "metadata": {
        "colab": {
          "base_uri": "https://localhost:8080/"
        },
        "id": "fVYLRJMPnJM5",
        "outputId": "4b018f03-726c-4c16-c2cd-449afc4c77d4"
      },
      "source": [
        "%%writefile programa2.cpp\n",
        "#include<iostream>\n",
        "using std::cout;\n",
        "typedef unsigned long long ull;\n",
        "typedef long long ll;\n",
        "class NumeroP{\n",
        "    ull e;\n",
        "    ull d;\n",
        "    public:\n",
        "    NumeroP(ull e=0, ull d=0):e(e),d(d){ }\n",
        "    ull getE(){return e;}\n",
        "    void setE(ull e){this->e=e;}\n",
        "    ull getD(){return d;}\n",
        "    void SetD(ull d){this->d=d;}\n",
        "    void add(NumeroP n){\n",
        "        e+=n.getE();\n",
        "        d+=n.getD();\n",
        "    }\n",
        "    void print(){  cout<<e<<\"\\t\"<<d<<\"\\n\";}   \n",
        "};\n",
        "class NumeroN{\n",
        "    ll e;\n",
        "    ll d;\n",
        "    public:\n",
        "    NumeroN(ull e=0, ull d=0):e(e),d(d){}\n",
        "    ull getE(){return e;}\n",
        "    void setE(ull e){this->e=e;}\n",
        "    ull getD(){return d;}\n",
        "    void SetD(ull d){this->d=d;}\n",
        "    void add(NumeroN n){\n",
        "        e+=n.getE();\n",
        "        d+=n.getD();   \n",
        "   }\n",
        "   void print(){ cout<<e<<\"\\t\"<<d<<\"\\n\";}\n",
        "};\n",
        "\n",
        "int main(){\n",
        "    NumeroP n1;\n",
        "    NumeroP n2(10);\n",
        "    NumeroP n3(10,20);\n",
        "    NumeroN nn1;\n",
        "    NumeroN nn2(10);\n",
        "    NumeroN nn3(10,20);\n",
        "    n1.print();\n",
        "    n2.print();\n",
        "    n3.print();\n",
        "    return 0;\n",
        "}"
      ],
      "execution_count": 35,
      "outputs": [
        {
          "output_type": "stream",
          "text": [
            "Overwriting programa2.cpp\n"
          ],
          "name": "stdout"
        }
      ]
    },
    {
      "cell_type": "code",
      "metadata": {
        "colab": {
          "base_uri": "https://localhost:8080/"
        },
        "id": "_6iqBLSBqkgP",
        "outputId": "40392eaa-3485-44fe-d18a-61df8769dcfb"
      },
      "source": [
        "!g++ -std=c++1y programa2.cpp -o upc.exe && ./upc.exe"
      ],
      "execution_count": 36,
      "outputs": [
        {
          "output_type": "stream",
          "text": [
            "0\t0\n",
            "10\t0\n",
            "10\t20\n"
          ],
          "name": "stdout"
        }
      ]
    },
    {
      "cell_type": "code",
      "metadata": {
        "colab": {
          "base_uri": "https://localhost:8080/"
        },
        "id": "_9H5Jo1Lqp7C",
        "outputId": "137fc0e1-48df-452b-decb-6e01d2e896cd"
      },
      "source": [
        "%%writefile programa2.cpp\n",
        "#include<iostream>\n",
        "using std::cout;\n",
        "typedef unsigned long long ull;\n",
        "typedef long long ll;\n",
        "template <class T>\n",
        "class Numero{\n",
        "    T e;\n",
        "    T d;\n",
        "    public:\n",
        "    Numero(T e, T d):e(e),d(d){ }\n",
        "    T getE(){return e;}\n",
        "    void setE(T e){this->e=e;}\n",
        "    T getD(){return d;}\n",
        "    void SetD(T d){this->d=d;}\n",
        "    void add(Numero n){\n",
        "        e+=n.getE();\n",
        "        d+=n.getD();\n",
        "    }\n",
        "    void print(){  cout<<e<<\"\\t\"<<d<<\"\\n\";}   \n",
        "};\n",
        "int main(){\n",
        "    Numero <ull>n1(10,20);\n",
        "    Numero <ll>n2(-10,-20);\n",
        "    Numero <int>n3(1,2);\n",
        "    Numero <double>n4(10.23,20.56);\n",
        "    Numero <short>n5(5,27);\n",
        "    Numero <float>n6(10.8,20.9);\n",
        "    n1.print();\n",
        "    n2.print();\n",
        "    n3.print();\n",
        "    n4.print();\n",
        "    n5.print();\n",
        "    \n",
        "    return 0;\n",
        "}"
      ],
      "execution_count": 46,
      "outputs": [
        {
          "output_type": "stream",
          "text": [
            "Overwriting programa2.cpp\n"
          ],
          "name": "stdout"
        }
      ]
    },
    {
      "cell_type": "code",
      "metadata": {
        "colab": {
          "base_uri": "https://localhost:8080/"
        },
        "id": "nL5JkVigubG5",
        "outputId": "ecd1800d-b388-41a8-8166-c55639345133"
      },
      "source": [
        "!g++ -std=c++1y programa2.cpp -o upc.exe && ./upc.exe"
      ],
      "execution_count": 47,
      "outputs": [
        {
          "output_type": "stream",
          "text": [
            "10\t20\n",
            "-10\t-20\n",
            "1\t2\n",
            "10.23\t20.56\n",
            "5\t27\n"
          ],
          "name": "stdout"
        }
      ]
    },
    {
      "cell_type": "code",
      "metadata": {
        "colab": {
          "base_uri": "https://localhost:8080/"
        },
        "id": "jlGytO4aup0n",
        "outputId": "a43ace7f-ecc3-4c8e-cb0e-89347451b913"
      },
      "source": [
        "%%writefile templates.cpp\n",
        "#include<iostream>\n",
        "#include<string>\n",
        "using std::string;\n",
        "struct Enemy{\n",
        "    string name;\n",
        "    unsigned short points;\n",
        "};\n",
        "class Weapon{\n",
        "    string model;\n",
        "};\n",
        "class Leader{\n",
        "    string name;\n",
        "};\n",
        "\n",
        "template <class T>\n",
        "class Array{\n",
        "    T* arr;\n",
        "    unsigned short i;\n",
        "    public:\n",
        "    Array(){\n",
        "        arr=new T[10];\n",
        "        i=0;\n",
        "    }\n",
        "    void insert(T t){\n",
        "        if(i<10){\n",
        "        arr[i]=t;\n",
        "        ++i;\n",
        "        }\n",
        "    }\n",
        "};\n",
        "int main(){\n",
        "    Array<Enemy> enemigos;\n",
        "    Array<Weapon> armas;\n",
        "    Array<Leader> personajes;\n",
        "}\n"
      ],
      "execution_count": 59,
      "outputs": [
        {
          "output_type": "stream",
          "text": [
            "Overwriting templates.cpp\n"
          ],
          "name": "stdout"
        }
      ]
    },
    {
      "cell_type": "code",
      "metadata": {
        "id": "HZhXCLufzQ2d"
      },
      "source": [
        "!g++ -std=c++1y templates.cpp -o upc.exe && ./upc.exe"
      ],
      "execution_count": 60,
      "outputs": []
    },
    {
      "cell_type": "code",
      "metadata": {
        "id": "-UpzM5Id0BKq"
      },
      "source": [
        ""
      ],
      "execution_count": null,
      "outputs": []
    }
  ]
}