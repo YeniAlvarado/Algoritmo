{
  "nbformat": 4,
  "nbformat_minor": 0,
  "metadata": {
    "colab": {
      "name": "sesion2.ipynb",
      "provenance": [],
      "authorship_tag": "ABX9TyOUijg0Owtn3NN1idvIMRn/",
      "include_colab_link": true
    },
    "kernelspec": {
      "name": "python3",
      "display_name": "Python 3"
    },
    "language_info": {
      "name": "python"
    }
  },
  "cells": [
    {
      "cell_type": "markdown",
      "metadata": {
        "id": "view-in-github",
        "colab_type": "text"
      },
      "source": [
        "<a href=\"https://colab.research.google.com/github/YeniAlvarado/Algoritmo/blob/main/s2/sesion2.ipynb\" target=\"_parent\"><img src=\"https://colab.research.google.com/assets/colab-badge.svg\" alt=\"Open In Colab\"/></a>"
      ]
    },
    {
      "cell_type": "markdown",
      "metadata": {
        "id": "W6Ea86ZoQjy2"
      },
      "source": [
        "Contenido"
      ]
    },
    {
      "cell_type": "code",
      "metadata": {
        "id": "pILmwPQjc-28",
        "colab": {
          "base_uri": "https://localhost:8080/"
        },
        "outputId": "279ba232-783b-4770-d365-8724a6587e34"
      },
      "source": [
        "%%writefile prueba.txt\n",
        "\n",
        "walter , cueva , 38 , waltercueva@gmail.com \n",
        "\n",
        "Mauricio , Tuesta, 19 , correo@gmail.com "
      ],
      "execution_count": 3,
      "outputs": [
        {
          "output_type": "stream",
          "text": [
            "Writing prueba.txt\n"
          ],
          "name": "stdout"
        }
      ]
    },
    {
      "cell_type": "code",
      "metadata": {
        "colab": {
          "base_uri": "https://localhost:8080/"
        },
        "id": "5rodlKhSQn2v",
        "outputId": "8022f4f4-258a-49e6-80f2-7e632c87a38b"
      },
      "source": [
        "%%writefile archivos.cpp\n",
        "\n",
        "#include <iostream>\n",
        "\n",
        "#include <fstream>\n",
        "\n",
        "#include <string>\n",
        "\n",
        "#include <sstream>\n",
        "\n",
        "using namespace std;\n",
        "\n",
        "void conIostream(){\n",
        "\n",
        "    int a;\n",
        "\n",
        "    cout<<\"Ingrese nro\";//archivo de salida\n",
        "\n",
        "    cin>>a;//archivo de entrada\n",
        "\n",
        "}\n",
        "\n",
        "void conFstream(){\n",
        "\n",
        "    string resultado;\n",
        "\n",
        "    fstream archivo(\"texto.txt\",ios::out);\n",
        "\n",
        "    archivo<<\"Hola mundo\";\n",
        "\n",
        "    archivo>>resultado;\n",
        "\n",
        "    archivo.close();\n",
        "\n",
        "}\n",
        "\n",
        "void conOfstream(){\n",
        "\n",
        "    ofstream archivo(\"contador.txt\");//ofstream archivo; archivo.open(\"texto.txt\")\n",
        "\n",
        "    for(size_t i=0;i<100;++i){\n",
        "\n",
        "        archivo<<i<<endl;\n",
        "\n",
        "    }\n",
        "\n",
        "    archivo.close();\n",
        "\n",
        "}\n",
        "\n",
        "void conIfstream(){\n",
        "\n",
        "    int nro;\n",
        "\n",
        "    int c=0;\n",
        "\n",
        "    ifstream archivo(\"contador.txt\");//ofstream archivo; archivo.open(\"texto.txt\")    \n",
        "\n",
        "    while(archivo>>nro)\n",
        "\n",
        "      {cout<<nro;  ++c;  }\n",
        "\n",
        "cout<<\"\\n\\n\\tLa cantidad de filas del archivo es:\"<<c<<endl,\n",
        "\n",
        "    archivo.close();\n",
        "\n",
        "}\n",
        "\n",
        "void lectura(){\n",
        "\n",
        "    string nombre;\n",
        "\n",
        "    string apellido;\n",
        "\n",
        "    short edad;\n",
        "\n",
        "    string correo;\n",
        "\n",
        "    string temp,aux;\n",
        "\n",
        "    fstream archivo;\n",
        "\n",
        "    archivo.open(\"prueba.txt\",ios::in);//lectura\n",
        "\n",
        "    while(getline(archivo, temp))//while(archivo>>temp)\n",
        "\n",
        "      {stringstream archMemoria(temp);\n",
        "\n",
        "       getline(archMemoria,nombre,',');\n",
        "\n",
        "       getline(archMemoria,apellido,',');\n",
        "\n",
        "       getline(archMemoria,aux,',');\n",
        "\n",
        "       edad=stoi(aux);\n",
        "\n",
        "       getline(archMemoria,correo);\n",
        "\n",
        "          cout<<nombre<<\" \"<<apellido<<\" \"<<edad<<\" \"<<correo<<endl;       \n",
        "\n",
        "       }\n",
        "\n",
        "}\n",
        "\n",
        "void lectura1(){\n",
        "\n",
        "    string nombre;\n",
        "\n",
        "    string apellido;\n",
        "\n",
        "    short edad;\n",
        "\n",
        "    string correo;\n",
        "\n",
        "    string temp,aux;\n",
        "\n",
        "    fstream archivo;\n",
        "\n",
        "    archivo.open(\"prueba.txt\",ios::in);//lectura\n",
        "\n",
        "    while(archivo>>nombre>>aux>>apellido>>aux>>edad>>aux>>correo)\n",
        "\n",
        "       cout<<nombre<<\" \"<<apellido<<\" \"<<edad<<\" \"<<correo<<endl;             \n",
        "\n",
        "}\n",
        "\n",
        "int main(){\n",
        "\n",
        "    lectura1();\n",
        "\n",
        "    return 0;\n",
        "\n",
        "}"
      ],
      "execution_count": 4,
      "outputs": [
        {
          "output_type": "stream",
          "text": [
            "Overwriting archivos.cpp\n"
          ],
          "name": "stdout"
        }
      ]
    },
    {
      "cell_type": "code",
      "metadata": {
        "colab": {
          "base_uri": "https://localhost:8080/"
        },
        "id": "5IMxooiMSFlN",
        "outputId": "1c3e595e-c8be-4ce6-d425-6b93fee64aea"
      },
      "source": [
        "!g++ archivos.cpp&& ./a.out"
      ],
      "execution_count": 5,
      "outputs": [
        {
          "output_type": "stream",
          "text": [
            "walter cueva 38 waltercueva@gmail.com\n"
          ],
          "name": "stdout"
        }
      ]
    },
    {
      "cell_type": "markdown",
      "metadata": {
        "id": "wqxPQ_3rdGuc"
      },
      "source": [
        "Lambdas"
      ]
    },
    {
      "cell_type": "code",
      "metadata": {
        "colab": {
          "base_uri": "https://localhost:8080/"
        },
        "id": "MNQM4XNlShb1",
        "outputId": "e98765af-1d12-4034-fd30-dac93751446b"
      },
      "source": [
        "%%writefile lambdas.cpp\n",
        "\n",
        "#include <iostream>\n",
        "\n",
        "#include <functional>\n",
        "\n",
        "#include <string>\n",
        "\n",
        "using std::cout;\n",
        "\n",
        "using std::function;\n",
        "\n",
        "using std::endl;\n",
        "\n",
        "using std::string;\n",
        "\n",
        "namespace Ejemplo1{\n",
        "\n",
        "    void operacion(function<short(short,short)> funcion){\n",
        "\n",
        "    int a=10;\n",
        "\n",
        "    int b=5;\n",
        "\n",
        "    cout<<funcion(a,b)<<endl;\n",
        "\n",
        "}\n",
        "\n",
        "void operacion(int a, int b, function<short(short,short)> funcion){    \n",
        "\n",
        "    cout<<funcion(a,b)<<endl;\n",
        "\n",
        "}\n",
        "\n",
        "void ejemplo1(){\n",
        "\n",
        "    int a=100;\n",
        "\n",
        "    int b=50;\n",
        "\n",
        "    auto suma=[](short a, short b)->short{return a+b;};\n",
        "\n",
        "    auto resta=[](short a, short b){return a-b;};\n",
        "\n",
        "    auto multiplicacion=[](short a, short b){return a*b;};\n",
        "\n",
        "    auto division=[](short a, short b){return a/b;};\n",
        "\n",
        "    operacion(suma);\n",
        "\n",
        "    operacion(resta);\n",
        "\n",
        "    operacion(multiplicacion);\n",
        "\n",
        "    operacion(division);\n",
        "\n",
        "    operacion(a,b,suma);\n",
        "\n",
        "    operacion(a,b,resta);\n",
        "\n",
        "    operacion(a,b,multiplicacion);\n",
        "\n",
        "    operacion(a,b,division);\n",
        "\n",
        "\n",
        "\n",
        "}\n",
        "\n",
        "\n",
        "\n",
        "}\n",
        "\n",
        "namespace Ejemplo2{\n",
        "\n",
        "struct Persona{\n",
        "\n",
        "    string nombre;\n",
        "\n",
        "    unsigned short edad;\n",
        "\n",
        "    string correo;\n",
        "\n",
        "};\n",
        "\n",
        "void mostrar(Persona p,function<void(Persona)> f){   f(p); }    \n",
        "\n",
        "void ejemplo2(){\n",
        "\n",
        "    Persona p;\n",
        "\n",
        "    p.nombre=\"Walter\";\n",
        "\n",
        "    p.edad=38;\n",
        "\n",
        "    p.correo=\"waltercueva@gmail.com\";\n",
        "\n",
        "    auto horizontal=[](Persona p){\n",
        "\n",
        "        cout<<p.nombre<<\" \"<<p.edad<<\" \"<<p.correo<<endl;};\n",
        "\n",
        "    auto nombre=[](Persona p){\n",
        "\n",
        "        cout<<p.nombre<<endl;};\n",
        "\n",
        "    auto vertical=[](Persona p){\n",
        "\n",
        "        cout<<p.nombre<<endl<<p.edad<<endl<<p.correo<<endl;};\n",
        "\n",
        "    mostrar(p,vertical);\n",
        "\n",
        "  }\n",
        "\n",
        "}\n",
        "\n",
        "int main(){\n",
        "\n",
        "  Ejemplo2::ejemplo2();  \n",
        "\n",
        "}"
      ],
      "execution_count": null,
      "outputs": [
        {
          "output_type": "stream",
          "text": [
            "Overwriting lambdas.cpp\n"
          ],
          "name": "stdout"
        }
      ]
    },
    {
      "cell_type": "code",
      "metadata": {
        "colab": {
          "base_uri": "https://localhost:8080/"
        },
        "id": "qkR2J56merEn",
        "outputId": "0eb559f0-22f4-416e-dc26-7dfa41650453"
      },
      "source": [
        "!g++ lambdas.cpp&& ./a.out"
      ],
      "execution_count": null,
      "outputs": [
        {
          "output_type": "stream",
          "text": [
            "Walter\n",
            "38\n",
            "waltercueva@gmail.com\n"
          ],
          "name": "stdout"
        }
      ]
    },
    {
      "cell_type": "code",
      "metadata": {
        "id": "hV303JeyexRI"
      },
      "source": [
        ""
      ],
      "execution_count": null,
      "outputs": []
    }
  ]
}